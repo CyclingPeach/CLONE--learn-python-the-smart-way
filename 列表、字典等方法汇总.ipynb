{
 "cells": [
  {
   "cell_type": "markdown",
   "metadata": {},
   "source": [
    "- 列表\n",
    "    - `append(x)` 把元素 x 放在入列表尾部\n",
    "    - `count(x)` 统计元素 x 在列表中出现次数\n",
    "    - `extent(seq)` 把新列表 seq 合并到列表尾部\n",
    "    - `index(x)` 返回元素 x 在列表第一次出现的位置\n",
    "    - `insert(index, x)` 把元素 x 插入到 index 位置\n",
    "    - `pop(index)` 删除并返回 index 所在位置的元素\n",
    "    - `remove(x)` 删除出现的第一个 x 元素\n",
    "    - `reverse()` 颠倒列表顺序\n",
    "    - `sort()` 对列表进行排序——sorted()呢\n",
    "    \n",
    "    \n",
    "- 字典\n",
    "    - `clear()` 清楚字典内所有元素\n",
    "    - `copy()` 返回字典的一个复制\n",
    "    - `has_key(key)` 检查 key 是否在字典中 \n",
    "    - `items()` 返回一个含由 (key, value) 格式元组构成的列表\n",
    "    - `keys()` 返回由键构成列表\n",
    "    - `values()` 返回由值构成的列表\n",
    "    - `setdefault(key, default)` 为键 key 添加默认值 default\n",
    "    - `pop(key)` 删除 key 并返回对应的值\n",
    "    \n",
    "    \n",
    "- 集合\n",
    "    - `add(x)` 向集合中添加元素 x\n",
    "    - `clear()` 清空集合\n",
    "    - `copy()` 返回集合的一个复制\n",
    "    - `difference(set)` 返回集合与另一个集合的差集 \n",
    "    - `discard(x)` 删除元素 x \n",
    "    - `isdisjoint(set)` 判断两个集合是否有交集 \n",
    "    - `issubset(set)` 判断新集合 set 是否是集合的子集\n",
    "    - `issuperset()` 判断新集合 set 是否是集合的超集"
   ]
  }
 ],
 "metadata": {
  "interpreter": {
   "hash": "916dbcbb3f70747c44a77c7bcd40155683ae19c65e1c03b4aa3499c5328201f1"
  },
  "kernelspec": {
   "display_name": "Python 3.8.10 64-bit",
   "language": "python",
   "name": "python3"
  },
  "language_info": {
   "name": "python",
   "version": "3.8.10"
  },
  "orig_nbformat": 4
 },
 "nbformat": 4,
 "nbformat_minor": 2
}
